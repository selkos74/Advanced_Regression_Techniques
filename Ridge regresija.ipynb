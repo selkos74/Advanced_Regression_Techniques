{
 "cells": [
  {
   "cell_type": "code",
   "execution_count": 1,
   "metadata": {
    "collapsed": true
   },
   "outputs": [],
   "source": [
    "import numpy as np #biblioteka za rad sa MATRICAMA\n",
    "import pandas as pd #biblioteka za rad sa DATAFRAME\n",
    "import matplotlib.pyplot as plt #biblioteka za vizuelizaciju. PROSTIJA VIZUELIZACIJA\n",
    "import seaborn as sns #biblioteka za vizuelizaciju. LEPSA VIZUELIZACIJA\n",
    "from sklearn.linear_model import LinearRegression, RidgeCV\n",
    "from sklearn.model_selection import cross_val_score\n",
    "from sklearn.metrics import mean_squared_error\n",
    "%matplotlib inline\n",
    "\n",
    "import plotly.plotly as py\n",
    "import plotly.graph_objs as go\n",
    "from plotly.tools import FigureFactory as FF\n",
    "\n",
    "\n",
    "import plotly.figure_factory as pfc\n",
    "\n",
    "import scipy\n",
    "from scipy import stats\n",
    "\n",
    "from sklearn import preprocessing\n",
    "#SHIFT + ENTER za izbacivanje OUTPUT-a"
   ]
  },
  {
   "cell_type": "markdown",
   "metadata": {},
   "source": [
    "# 1. Preprocesiranje\n",
    "Cilj preprocesiranja jeste da se dataset spremi za \"učenje\" tako što ćemo ga \"očistiti\" od podataka koji bi mogli da nam predstavljaju problem."
   ]
  },
  {
   "cell_type": "markdown",
   "metadata": {},
   "source": [
    "## 1.1. Dataset"
   ]
  },
  {
   "cell_type": "code",
   "execution_count": 2,
   "metadata": {
    "collapsed": true,
    "scrolled": true
   },
   "outputs": [],
   "source": [
    "train = pd.read_csv('train.csv') #učitavanje training set-a.\n",
    "test = pd.read_csv('test.csv') #učitavanje test set-a.\n",
    "testID = test['Id']\n",
    "\n",
    "data = pd.concat([train.drop('SalePrice', axis=1), test], keys=['train', 'test']) #concat = spajanje.\n",
    "#dropujemo \"SalePrice\" iz training set-a jer je to potrebno PREDVIVETI.\n",
    "data.drop(['Id'], axis=1, inplace=True) #takodje dropujemo ID jer nam on trenutno nije neophodan."
   ]
  },
  {
   "cell_type": "code",
   "execution_count": 3,
   "metadata": {},
   "outputs": [
    {
     "data": {
      "text/html": [
       "<div>\n",
       "<style>\n",
       "    .dataframe thead tr:only-child th {\n",
       "        text-align: right;\n",
       "    }\n",
       "\n",
       "    .dataframe thead th {\n",
       "        text-align: left;\n",
       "    }\n",
       "\n",
       "    .dataframe tbody tr th {\n",
       "        vertical-align: top;\n",
       "    }\n",
       "</style>\n",
       "<table border=\"1\" class=\"dataframe\">\n",
       "  <thead>\n",
       "    <tr style=\"text-align: right;\">\n",
       "      <th></th>\n",
       "      <th></th>\n",
       "      <th>MSSubClass</th>\n",
       "      <th>MSZoning</th>\n",
       "      <th>LotFrontage</th>\n",
       "      <th>LotArea</th>\n",
       "      <th>Street</th>\n",
       "      <th>Alley</th>\n",
       "      <th>LotShape</th>\n",
       "      <th>LandContour</th>\n",
       "      <th>Utilities</th>\n",
       "      <th>LotConfig</th>\n",
       "      <th>...</th>\n",
       "      <th>ScreenPorch</th>\n",
       "      <th>PoolArea</th>\n",
       "      <th>PoolQC</th>\n",
       "      <th>Fence</th>\n",
       "      <th>MiscFeature</th>\n",
       "      <th>MiscVal</th>\n",
       "      <th>MoSold</th>\n",
       "      <th>YrSold</th>\n",
       "      <th>SaleType</th>\n",
       "      <th>SaleCondition</th>\n",
       "    </tr>\n",
       "  </thead>\n",
       "  <tbody>\n",
       "    <tr>\n",
       "      <th rowspan=\"2\" valign=\"top\">train</th>\n",
       "      <th>0</th>\n",
       "      <td>60</td>\n",
       "      <td>RL</td>\n",
       "      <td>65.0</td>\n",
       "      <td>8450</td>\n",
       "      <td>Pave</td>\n",
       "      <td>NaN</td>\n",
       "      <td>Reg</td>\n",
       "      <td>Lvl</td>\n",
       "      <td>AllPub</td>\n",
       "      <td>Inside</td>\n",
       "      <td>...</td>\n",
       "      <td>0</td>\n",
       "      <td>0</td>\n",
       "      <td>NaN</td>\n",
       "      <td>NaN</td>\n",
       "      <td>NaN</td>\n",
       "      <td>0</td>\n",
       "      <td>2</td>\n",
       "      <td>2008</td>\n",
       "      <td>WD</td>\n",
       "      <td>Normal</td>\n",
       "    </tr>\n",
       "    <tr>\n",
       "      <th>1</th>\n",
       "      <td>20</td>\n",
       "      <td>RL</td>\n",
       "      <td>80.0</td>\n",
       "      <td>9600</td>\n",
       "      <td>Pave</td>\n",
       "      <td>NaN</td>\n",
       "      <td>Reg</td>\n",
       "      <td>Lvl</td>\n",
       "      <td>AllPub</td>\n",
       "      <td>FR2</td>\n",
       "      <td>...</td>\n",
       "      <td>0</td>\n",
       "      <td>0</td>\n",
       "      <td>NaN</td>\n",
       "      <td>NaN</td>\n",
       "      <td>NaN</td>\n",
       "      <td>0</td>\n",
       "      <td>5</td>\n",
       "      <td>2007</td>\n",
       "      <td>WD</td>\n",
       "      <td>Normal</td>\n",
       "    </tr>\n",
       "  </tbody>\n",
       "</table>\n",
       "<p>2 rows × 79 columns</p>\n",
       "</div>"
      ],
      "text/plain": [
       "         MSSubClass MSZoning  LotFrontage  LotArea Street Alley LotShape  \\\n",
       "train 0          60       RL         65.0     8450   Pave   NaN      Reg   \n",
       "      1          20       RL         80.0     9600   Pave   NaN      Reg   \n",
       "\n",
       "        LandContour Utilities LotConfig      ...       ScreenPorch PoolArea  \\\n",
       "train 0         Lvl    AllPub    Inside      ...                 0        0   \n",
       "      1         Lvl    AllPub       FR2      ...                 0        0   \n",
       "\n",
       "        PoolQC Fence MiscFeature MiscVal  MoSold  YrSold  SaleType  \\\n",
       "train 0    NaN   NaN         NaN       0       2    2008        WD   \n",
       "      1    NaN   NaN         NaN       0       5    2007        WD   \n",
       "\n",
       "         SaleCondition  \n",
       "train 0         Normal  \n",
       "      1         Normal  \n",
       "\n",
       "[2 rows x 79 columns]"
      ]
     },
     "execution_count": 3,
     "metadata": {},
     "output_type": "execute_result"
    }
   ],
   "source": [
    "data.head(2)"
   ]
  },
  {
   "cell_type": "code",
   "execution_count": 4,
   "metadata": {
    "scrolled": true
   },
   "outputs": [
    {
     "data": {
      "image/png": "[encoded data removed]",
      "text/plain": [
       "<matplotlib.figure.Figure at 0x10b8ecc90>"
      ]
     },
     "metadata": {},
     "output_type": "display_data"
    }
   ],
   "source": [
    "corrmat = train.drop([\"Id\", \"SalePrice\"], axis=1).corr()\n",
    "f, ax = plt.subplots(figsize=(12, 9))\n",
    "sns.heatmap(corrmat, vmax=.8, square=True);"
   ]
  },
  {
   "cell_type": "code",
   "execution_count": 5,
   "metadata": {
    "collapsed": true,
    "scrolled": true
   },
   "outputs": [],
   "source": [
    "tempdf = pd.melt(corrmat.reset_index(), id_vars=['index'], value_vars=corrmat.index)"
   ]
  },
  {
   "cell_type": "code",
   "execution_count": 6,
   "metadata": {
    "scrolled": true
   },
   "outputs": [
    {
     "data": {
      "text/html": [
       "<div>\n",
       "<style>\n",
       "    .dataframe thead tr:only-child th {\n",
       "        text-align: right;\n",
       "    }\n",
       "\n",
       "    .dataframe thead th {\n",
       "        text-align: left;\n",
       "    }\n",
       "\n",
       "    .dataframe tbody tr th {\n",
       "        vertical-align: top;\n",
       "    }\n",
       "</style>\n",
       "<table border=\"1\" class=\"dataframe\">\n",
       "  <thead>\n",
       "    <tr style=\"text-align: right;\">\n",
       "      <th></th>\n",
       "      <th>index</th>\n",
       "      <th>variable</th>\n",
       "      <th>value</th>\n",
       "    </tr>\n",
       "  </thead>\n",
       "  <tbody>\n",
       "    <tr>\n",
       "      <th>204</th>\n",
       "      <td>GarageYrBlt</td>\n",
       "      <td>YearBuilt</td>\n",
       "      <td>0.825667</td>\n",
       "    </tr>\n",
       "    <tr>\n",
       "      <th>408</th>\n",
       "      <td>1stFlrSF</td>\n",
       "      <td>TotalBsmtSF</td>\n",
       "      <td>0.819530</td>\n",
       "    </tr>\n",
       "    <tr>\n",
       "      <th>443</th>\n",
       "      <td>TotalBsmtSF</td>\n",
       "      <td>1stFlrSF</td>\n",
       "      <td>0.819530</td>\n",
       "    </tr>\n",
       "    <tr>\n",
       "      <th>562</th>\n",
       "      <td>TotRmsAbvGrd</td>\n",
       "      <td>GrLivArea</td>\n",
       "      <td>0.825489</td>\n",
       "    </tr>\n",
       "    <tr>\n",
       "      <th>807</th>\n",
       "      <td>GrLivArea</td>\n",
       "      <td>TotRmsAbvGrd</td>\n",
       "      <td>0.825489</td>\n",
       "    </tr>\n",
       "    <tr>\n",
       "      <th>869</th>\n",
       "      <td>YearBuilt</td>\n",
       "      <td>GarageYrBlt</td>\n",
       "      <td>0.825667</td>\n",
       "    </tr>\n",
       "    <tr>\n",
       "      <th>926</th>\n",
       "      <td>GarageArea</td>\n",
       "      <td>GarageCars</td>\n",
       "      <td>0.882475</td>\n",
       "    </tr>\n",
       "    <tr>\n",
       "      <th>961</th>\n",
       "      <td>GarageCars</td>\n",
       "      <td>GarageArea</td>\n",
       "      <td>0.882475</td>\n",
       "    </tr>\n",
       "  </tbody>\n",
       "</table>\n",
       "</div>"
      ],
      "text/plain": [
       "            index      variable     value\n",
       "204   GarageYrBlt     YearBuilt  0.825667\n",
       "408      1stFlrSF   TotalBsmtSF  0.819530\n",
       "443   TotalBsmtSF      1stFlrSF  0.819530\n",
       "562  TotRmsAbvGrd     GrLivArea  0.825489\n",
       "807     GrLivArea  TotRmsAbvGrd  0.825489\n",
       "869     YearBuilt   GarageYrBlt  0.825667\n",
       "926    GarageArea    GarageCars  0.882475\n",
       "961    GarageCars    GarageArea  0.882475"
      ]
     },
     "execution_count": 6,
     "metadata": {},
     "output_type": "execute_result"
    }
   ],
   "source": [
    "tempdf[(tempdf.value > 0.8) & (tempdf.value != 1)].drop_duplicates()"
   ]
  },
  {
   "cell_type": "code",
   "execution_count": 7,
   "metadata": {
    "collapsed": true
   },
   "outputs": [],
   "source": [
    "data = data.drop(['GarageYrBlt', '1stFlrSF', 'TotRmsAbvGrd', 'GarageCars'],  axis=1)"
   ]
  },
  {
   "cell_type": "code",
   "execution_count": 8,
   "metadata": {},
   "outputs": [
    {
     "data": {
      "text/plain": [
       "(2919, 75)"
      ]
     },
     "execution_count": 8,
     "metadata": {},
     "output_type": "execute_result"
    }
   ],
   "source": [
    "data.shape"
   ]
  },
  {
   "cell_type": "markdown",
   "metadata": {},
   "source": [
    "#### Anomalije\n",
    "\n",
    "Pre nego što nastavimo sa procesiranjem podataka, potrebno je da izvršimo validaciju, tj.da proverimo da li postoje podaci koji nisu realni, tj.koji nemaju smisla. Npr.atributi koji se odnose na godinu čija je vrednost veća od 2018. Takođe cene, razdaljine, površina ne smeju uzimati negativne vredosnti kao što i meseci moraju biti između\n",
    "1 i 12."
   ]
  },
  {
   "cell_type": "code",
   "execution_count": 9,
   "metadata": {
    "collapsed": true
   },
   "outputs": [],
   "source": [
    "years = ['YearBuilt', 'YearRemodAdd', 'YrSold'] #Svi atributi koji u sebi imaju podatak o GODINI\n",
    "metrics = ['LotFrontage', 'LotArea', 'MasVnrArea', 'BsmtFinSF1', 'BsmtFinSF2', 'BsmtUnfSF', 'TotalBsmtSF',\n",
    "          '2ndFlrSF', 'LowQualFinSF', 'GrLivArea', 'GarageArea', 'WoodDeckSF', \n",
    "         'OpenPorchSF', 'EnclosedPorch', '3SsnPorch', 'ScreenPorch', 'PoolArea', 'MiscVal'] #.... o VELIČINAMA"
   ]
  },
  {
   "cell_type": "markdown",
   "metadata": {},
   "source": [
    "Provera da li postoji neka obzervacija kod koje je GODINA veća od 2018-e."
   ]
  },
  {
   "cell_type": "code",
   "execution_count": 10,
   "metadata": {},
   "outputs": [
    {
     "data": {
      "text/plain": [
       "YearBuilt       2010\n",
       "YearRemodAdd    2010\n",
       "YrSold          2010\n",
       "dtype: int64"
      ]
     },
     "execution_count": 10,
     "metadata": {},
     "output_type": "execute_result"
    }
   ],
   "source": [
    "data[years].max() #maksimalne vredosti za svaki od atributa koji u sebi sadrže godinu."
   ]
  },
  {
   "cell_type": "code",
   "execution_count": 11,
   "metadata": {},
   "outputs": [
    {
     "data": {
      "text/html": [
       "<div>\n",
       "<style>\n",
       "    .dataframe thead tr:only-child th {\n",
       "        text-align: right;\n",
       "    }\n",
       "\n",
       "    .dataframe thead th {\n",
       "        text-align: left;\n",
       "    }\n",
       "\n",
       "    .dataframe tbody tr th {\n",
       "        vertical-align: top;\n",
       "    }\n",
       "</style>\n",
       "<table border=\"1\" class=\"dataframe\">\n",
       "  <thead>\n",
       "    <tr style=\"text-align: right;\">\n",
       "      <th></th>\n",
       "      <th></th>\n",
       "      <th>MSSubClass</th>\n",
       "      <th>MSZoning</th>\n",
       "      <th>LotFrontage</th>\n",
       "      <th>LotArea</th>\n",
       "      <th>Street</th>\n",
       "      <th>Alley</th>\n",
       "      <th>LotShape</th>\n",
       "      <th>LandContour</th>\n",
       "      <th>Utilities</th>\n",
       "      <th>LotConfig</th>\n",
       "      <th>...</th>\n",
       "      <th>ScreenPorch</th>\n",
       "      <th>PoolArea</th>\n",
       "      <th>PoolQC</th>\n",
       "      <th>Fence</th>\n",
       "      <th>MiscFeature</th>\n",
       "      <th>MiscVal</th>\n",
       "      <th>MoSold</th>\n",
       "      <th>YrSold</th>\n",
       "      <th>SaleType</th>\n",
       "      <th>SaleCondition</th>\n",
       "    </tr>\n",
       "  </thead>\n",
       "  <tbody>\n",
       "  </tbody>\n",
       "</table>\n",
       "<p>0 rows × 75 columns</p>\n",
       "</div>"
      ],
      "text/plain": [
       "Empty DataFrame\n",
       "Columns: [MSSubClass, MSZoning, LotFrontage, LotArea, Street, Alley, LotShape, LandContour, Utilities, LotConfig, LandSlope, Neighborhood, Condition1, Condition2, BldgType, HouseStyle, OverallQual, OverallCond, YearBuilt, YearRemodAdd, RoofStyle, RoofMatl, Exterior1st, Exterior2nd, MasVnrType, MasVnrArea, ExterQual, ExterCond, Foundation, BsmtQual, BsmtCond, BsmtExposure, BsmtFinType1, BsmtFinSF1, BsmtFinType2, BsmtFinSF2, BsmtUnfSF, TotalBsmtSF, Heating, HeatingQC, CentralAir, Electrical, 2ndFlrSF, LowQualFinSF, GrLivArea, BsmtFullBath, BsmtHalfBath, FullBath, HalfBath, BedroomAbvGr, KitchenAbvGr, KitchenQual, Functional, Fireplaces, FireplaceQu, GarageType, GarageFinish, GarageArea, GarageQual, GarageCond, PavedDrive, WoodDeckSF, OpenPorchSF, EnclosedPorch, 3SsnPorch, ScreenPorch, PoolArea, PoolQC, Fence, MiscFeature, MiscVal, MoSold, YrSold, SaleType, SaleCondition]\n",
       "Index: []\n",
       "\n",
       "[0 rows x 75 columns]"
      ]
     },
     "execution_count": 11,
     "metadata": {},
     "output_type": "execute_result"
    }
   ],
   "source": [
    "mask = (data[years] > 2018).any(axis=1)\n",
    "data[mask] "
   ]
  },
  {
   "cell_type": "markdown",
   "metadata": {},
   "source": [
    "Postoji jedna obzervacija kod koje atribut(feature) \"GarageYrBlt 2207.0\" iskače iz normale."
   ]
  },
  {
   "cell_type": "code",
   "execution_count": 12,
   "metadata": {
    "collapsed": true
   },
   "outputs": [],
   "source": [
    "data.loc[mask, 'GarageYrBlt'] = data[mask]['YearBuilt']"
   ]
  },
  {
   "cell_type": "markdown",
   "metadata": {},
   "source": [
    "Provera da li postoje NEGATIVNE VREDNOSTI za veličinu parcela,garaže,trema itd."
   ]
  },
  {
   "cell_type": "code",
   "execution_count": 13,
   "metadata": {},
   "outputs": [
    {
     "data": {
      "text/html": [
       "<div>\n",
       "<style>\n",
       "    .dataframe thead tr:only-child th {\n",
       "        text-align: right;\n",
       "    }\n",
       "\n",
       "    .dataframe thead th {\n",
       "        text-align: left;\n",
       "    }\n",
       "\n",
       "    .dataframe tbody tr th {\n",
       "        vertical-align: top;\n",
       "    }\n",
       "</style>\n",
       "<table border=\"1\" class=\"dataframe\">\n",
       "  <thead>\n",
       "    <tr style=\"text-align: right;\">\n",
       "      <th></th>\n",
       "      <th></th>\n",
       "      <th>MSSubClass</th>\n",
       "      <th>MSZoning</th>\n",
       "      <th>LotFrontage</th>\n",
       "      <th>LotArea</th>\n",
       "      <th>Street</th>\n",
       "      <th>Alley</th>\n",
       "      <th>LotShape</th>\n",
       "      <th>LandContour</th>\n",
       "      <th>Utilities</th>\n",
       "      <th>LotConfig</th>\n",
       "      <th>...</th>\n",
       "      <th>PoolArea</th>\n",
       "      <th>PoolQC</th>\n",
       "      <th>Fence</th>\n",
       "      <th>MiscFeature</th>\n",
       "      <th>MiscVal</th>\n",
       "      <th>MoSold</th>\n",
       "      <th>YrSold</th>\n",
       "      <th>SaleType</th>\n",
       "      <th>SaleCondition</th>\n",
       "      <th>GarageYrBlt</th>\n",
       "    </tr>\n",
       "  </thead>\n",
       "  <tbody>\n",
       "  </tbody>\n",
       "</table>\n",
       "<p>0 rows × 76 columns</p>\n",
       "</div>"
      ],
      "text/plain": [
       "Empty DataFrame\n",
       "Columns: [MSSubClass, MSZoning, LotFrontage, LotArea, Street, Alley, LotShape, LandContour, Utilities, LotConfig, LandSlope, Neighborhood, Condition1, Condition2, BldgType, HouseStyle, OverallQual, OverallCond, YearBuilt, YearRemodAdd, RoofStyle, RoofMatl, Exterior1st, Exterior2nd, MasVnrType, MasVnrArea, ExterQual, ExterCond, Foundation, BsmtQual, BsmtCond, BsmtExposure, BsmtFinType1, BsmtFinSF1, BsmtFinType2, BsmtFinSF2, BsmtUnfSF, TotalBsmtSF, Heating, HeatingQC, CentralAir, Electrical, 2ndFlrSF, LowQualFinSF, GrLivArea, BsmtFullBath, BsmtHalfBath, FullBath, HalfBath, BedroomAbvGr, KitchenAbvGr, KitchenQual, Functional, Fireplaces, FireplaceQu, GarageType, GarageFinish, GarageArea, GarageQual, GarageCond, PavedDrive, WoodDeckSF, OpenPorchSF, EnclosedPorch, 3SsnPorch, ScreenPorch, PoolArea, PoolQC, Fence, MiscFeature, MiscVal, MoSold, YrSold, SaleType, SaleCondition, GarageYrBlt]\n",
       "Index: []\n",
       "\n",
       "[0 rows x 76 columns]"
      ]
     },
     "execution_count": 13,
     "metadata": {},
     "output_type": "execute_result"
    }
   ],
   "source": [
    "mask = (data[metrics] < 0).any(axis=1) #provera da li postoji neka veličina koja iskače iz normale.\n",
    "data[mask]"
   ]
  },
  {
   "cell_type": "markdown",
   "metadata": {},
   "source": [
    "Provera da li za sve obzervacije važi da MESECI uzimaju vrednosti od 1 do 12."
   ]
  },
  {
   "cell_type": "code",
   "execution_count": 14,
   "metadata": {},
   "outputs": [
    {
     "data": {
      "text/html": [
       "<div>\n",
       "<style>\n",
       "    .dataframe thead tr:only-child th {\n",
       "        text-align: right;\n",
       "    }\n",
       "\n",
       "    .dataframe thead th {\n",
       "        text-align: left;\n",
       "    }\n",
       "\n",
       "    .dataframe tbody tr th {\n",
       "        vertical-align: top;\n",
       "    }\n",
       "</style>\n",
       "<table border=\"1\" class=\"dataframe\">\n",
       "  <thead>\n",
       "    <tr style=\"text-align: right;\">\n",
       "      <th></th>\n",
       "      <th></th>\n",
       "      <th>MSSubClass</th>\n",
       "      <th>MSZoning</th>\n",
       "      <th>LotFrontage</th>\n",
       "      <th>LotArea</th>\n",
       "      <th>Street</th>\n",
       "      <th>Alley</th>\n",
       "      <th>LotShape</th>\n",
       "      <th>LandContour</th>\n",
       "      <th>Utilities</th>\n",
       "      <th>LotConfig</th>\n",
       "      <th>...</th>\n",
       "      <th>PoolArea</th>\n",
       "      <th>PoolQC</th>\n",
       "      <th>Fence</th>\n",
       "      <th>MiscFeature</th>\n",
       "      <th>MiscVal</th>\n",
       "      <th>MoSold</th>\n",
       "      <th>YrSold</th>\n",
       "      <th>SaleType</th>\n",
       "      <th>SaleCondition</th>\n",
       "      <th>GarageYrBlt</th>\n",
       "    </tr>\n",
       "  </thead>\n",
       "  <tbody>\n",
       "  </tbody>\n",
       "</table>\n",
       "<p>0 rows × 76 columns</p>\n",
       "</div>"
      ],
      "text/plain": [
       "Empty DataFrame\n",
       "Columns: [MSSubClass, MSZoning, LotFrontage, LotArea, Street, Alley, LotShape, LandContour, Utilities, LotConfig, LandSlope, Neighborhood, Condition1, Condition2, BldgType, HouseStyle, OverallQual, OverallCond, YearBuilt, YearRemodAdd, RoofStyle, RoofMatl, Exterior1st, Exterior2nd, MasVnrType, MasVnrArea, ExterQual, ExterCond, Foundation, BsmtQual, BsmtCond, BsmtExposure, BsmtFinType1, BsmtFinSF1, BsmtFinType2, BsmtFinSF2, BsmtUnfSF, TotalBsmtSF, Heating, HeatingQC, CentralAir, Electrical, 2ndFlrSF, LowQualFinSF, GrLivArea, BsmtFullBath, BsmtHalfBath, FullBath, HalfBath, BedroomAbvGr, KitchenAbvGr, KitchenQual, Functional, Fireplaces, FireplaceQu, GarageType, GarageFinish, GarageArea, GarageQual, GarageCond, PavedDrive, WoodDeckSF, OpenPorchSF, EnclosedPorch, 3SsnPorch, ScreenPorch, PoolArea, PoolQC, Fence, MiscFeature, MiscVal, MoSold, YrSold, SaleType, SaleCondition, GarageYrBlt]\n",
       "Index: []\n",
       "\n",
       "[0 rows x 76 columns]"
      ]
     },
     "execution_count": 14,
     "metadata": {},
     "output_type": "execute_result"
    }
   ],
   "source": [
    "mask = ((data['MoSold'] > 12) | (data['MoSold'] < 1))\n",
    "data[mask]"
   ]
  },
  {
   "cell_type": "markdown",
   "metadata": {},
   "source": [
    "#### Tipovi podataka\n",
    "Kada je reč o tipovima podataka, postoje 4 velike grupe:\n",
    "a.Kontinualni numerički atributi(dužine,površine,cene)\n",
    "b.Diskretni numerički atributi - ne možemo da ih tretiramo kao numeričke atribute jer podržavaju poređenje i aritmetičke operacije(numerički rezultati,broj soba,godine)\n",
    "c.Ordinalne kategoričke atribute - atribute koji daju kvalitativne/opisne rezultate(\"Dobar\",\"Odličan\") i koji podržavaju poređenja ali ne i aritmetičke operacije\n",
    "d.Čisto kategoričke podatke\n",
    "\n",
    "Odlučila sam da u potpunosti odvojim numeričke(i kontinualne i diskretne) od kategoričkih atributa pri čemu zadržavamo vezu između diskretnih numeričkih podataka i radićemo sa manje atributa.\n"
   ]
  },
  {
   "cell_type": "code",
   "execution_count": 15,
   "metadata": {
    "collapsed": true
   },
   "outputs": [],
   "source": [
    "#Numerički podaci\n",
    "num_feats = ['LotFrontage', 'LotArea', 'OverallQual', 'OverallCond', \n",
    "             'YearBuilt', 'YearRemodAdd', 'MasVnrArea', 'ExterQual', 'ExterCond', \n",
    "             'BsmtQual', 'BsmtCond', 'BsmtFinSF1', 'BsmtFinSF2', 'BsmtUnfSF', 'TotalBsmtSF', \n",
    "             'HeatingQC', '2ndFlrSF', 'LowQualFinSF',\n",
    "             'GrLivArea', 'BsmtFullBath', 'BsmtHalfBath', 'FullBath', 'HalfBath',\n",
    "             'BedroomAbvGr', 'KitchenAbvGr', 'KitchenQual',\n",
    "             'Fireplaces', 'FireplaceQu',\n",
    "              'GarageArea', 'GarageQual', 'GarageCond',\n",
    "             'WoodDeckSF', 'OpenPorchSF', 'EnclosedPorch', '3SsnPorch',\n",
    "             'ScreenPorch', 'PoolArea', 'PoolQC', 'MiscVal',\n",
    "             'YrSold']  \n",
    "\n",
    "#Moramo da KONVERTUJEMO ono što je odgovoreno REČIMA(\"Odlično\",\"Vrlo Dobro\", \"Dobro\") za atribute u\n",
    "#\"grades\" u NUMERIČKU skalu\n",
    "grades = ['OverallQual', 'OverallCond', 'ExterQual', 'ExterCond', 'BsmtQual', 'BsmtCond',\n",
    "          'HeatingQC', 'KitchenQual', 'FireplaceQu', 'GarageQual', 'GarageCond', 'PoolQC']\n",
    "literal = ['Ex', 'Gd', 'TA', 'Fa', 'Po'] #Ex-Excelent, Gd-Good, Po-Poor\n",
    "num = [9, 7, 5, 3, 2]\n",
    "\n",
    "G = dict(zip(literal, num))\n",
    "\n",
    "data[grades] = data[grades].replace(G)\n",
    "\n",
    "\n",
    "#Kategorički podaci podrazumevaju sve ono što nisu numerički podaci\n",
    "cat_feats = data.drop(num_feats, axis=1).columns "
   ]
  },
  {
   "cell_type": "code",
   "execution_count": 16,
   "metadata": {
    "collapsed": true
   },
   "outputs": [],
   "source": [
    "#data[grades]"
   ]
  },
  {
   "cell_type": "code",
   "execution_count": 17,
   "metadata": {},
   "outputs": [
    {
     "data": {
      "text/plain": [
       "Index([u'MSSubClass', u'MSZoning', u'Street', u'Alley', u'LotShape',\n",
       "       u'LandContour', u'Utilities', u'LotConfig', u'LandSlope',\n",
       "       u'Neighborhood', u'Condition1', u'Condition2', u'BldgType',\n",
       "       u'HouseStyle', u'RoofStyle', u'RoofMatl', u'Exterior1st',\n",
       "       u'Exterior2nd', u'MasVnrType', u'Foundation', u'BsmtExposure',\n",
       "       u'BsmtFinType1', u'BsmtFinType2', u'Heating', u'CentralAir',\n",
       "       u'Electrical', u'Functional', u'GarageType', u'GarageFinish',\n",
       "       u'PavedDrive', u'Fence', u'MiscFeature', u'MoSold', u'SaleType',\n",
       "       u'SaleCondition', u'GarageYrBlt'],\n",
       "      dtype='object')"
      ]
     },
     "execution_count": 17,
     "metadata": {},
     "output_type": "execute_result"
    }
   ],
   "source": [
    "cat_feats"
   ]
  },
  {
   "cell_type": "markdown",
   "metadata": {},
   "source": [
    "## 1.2. Normalnost i spljoštenost"
   ]
  },
  {
   "cell_type": "markdown",
   "metadata": {},
   "source": [
    "Većina regresionih modela mnogo efikasnije radi sa varijablama koje imaju normalnu(ili približno normalnu) raspodelu.\n",
    "Napomena: U obzir nećemo uzimati diskretne numeričke atribute jer će, bez njihove analize, rezultati biti mnogo čiljiviji i pored toga, mnogi od diskretnih numeričkih atributa uzimaju samo nekoliko različitih vredosti tako da je normalnost veoma retka."
   ]
  },
  {
   "cell_type": "code",
   "execution_count": 18,
   "metadata": {
    "collapsed": true
   },
   "outputs": [],
   "source": [
    "#log transformacija onoga što se želi predvideti.\n",
    "price = np.log1p(train['SalePrice'])"
   ]
  },
  {
   "cell_type": "code",
   "execution_count": 19,
   "metadata": {
    "collapsed": true
   },
   "outputs": [],
   "source": [
    "#log transformacija spljoštenih kontinualnih numeričkih vrednosti\n",
    "skewed_feats = data.loc['train'][metrics].apply(lambda x: x.skew(skipna=True)) #izračunavanje SPLJOŠTENOSTI(skewness)\n",
    "skewed_feats = skewed_feats[skewed_feats > 0.75]\n",
    "skewed_feats = skewed_feats.index\n",
    "\n",
    "data[skewed_feats] = np.log1p(data[skewed_feats])"
   ]
  },
  {
   "cell_type": "code",
   "execution_count": 20,
   "metadata": {},
   "outputs": [
    {
     "data": {
      "text/plain": [
       "Index([u'LotFrontage', u'LotArea', u'MasVnrArea', u'BsmtFinSF1', u'BsmtFinSF2',\n",
       "       u'BsmtUnfSF', u'TotalBsmtSF', u'2ndFlrSF', u'LowQualFinSF',\n",
       "       u'GrLivArea', u'WoodDeckSF', u'OpenPorchSF', u'EnclosedPorch',\n",
       "       u'3SsnPorch', u'ScreenPorch', u'PoolArea', u'MiscVal'],\n",
       "      dtype='object')"
      ]
     },
     "execution_count": 20,
     "metadata": {},
     "output_type": "execute_result"
    }
   ],
   "source": [
    "skewed_feats"
   ]
  },
  {
   "cell_type": "markdown",
   "metadata": {},
   "source": [
    "## 1.3. Nedostajuće vredosti\n",
    "\n",
    "U posmatranom dataset-u, postoje dva tipa nedostajućih vredosti. Prvi se odnosi na neke nedostajuće vredosti koje nisu zabaležene(mali broj njih) dok se drugi odnosi na nedostajući atribut za neku od obzervacija(kuća nema podrum ili garažu)."
   ]
  },
  {
   "cell_type": "code",
   "execution_count": 21,
   "metadata": {},
   "outputs": [
    {
     "data": {
      "text/plain": [
       "MSZoning           4\n",
       "LotFrontage      486\n",
       "Alley           2721\n",
       "Utilities          2\n",
       "Exterior1st        1\n",
       "Exterior2nd        1\n",
       "MasVnrType        24\n",
       "MasVnrArea        23\n",
       "BsmtQual          81\n",
       "BsmtCond          82\n",
       "BsmtExposure      82\n",
       "BsmtFinType1      79\n",
       "BsmtFinSF1         1\n",
       "BsmtFinType2      80\n",
       "BsmtFinSF2         1\n",
       "BsmtUnfSF          1\n",
       "TotalBsmtSF        1\n",
       "Electrical         1\n",
       "BsmtFullBath       2\n",
       "BsmtHalfBath       2\n",
       "KitchenQual        1\n",
       "Functional         2\n",
       "FireplaceQu     1420\n",
       "GarageType       157\n",
       "GarageFinish     159\n",
       "GarageArea         1\n",
       "GarageQual       159\n",
       "GarageCond       159\n",
       "PoolQC          2909\n",
       "Fence           2348\n",
       "MiscFeature     2814\n",
       "SaleType           1\n",
       "GarageYrBlt     2919\n",
       "dtype: int64"
      ]
     },
     "execution_count": 21,
     "metadata": {},
     "output_type": "execute_result"
    }
   ],
   "source": [
    "data.isnull().sum()[data.isnull().sum() > 0] #atributi koji imaju barem jednu nedostajuću vrednost"
   ]
  },
  {
   "cell_type": "markdown",
   "metadata": {},
   "source": [
    "##### MSZoning, Utilities, Exterior1st, Exterior2nd, Electrical, Functional and SaleType"
   ]
  },
  {
   "cell_type": "code",
   "execution_count": 22,
   "metadata": {
    "collapsed": true
   },
   "outputs": [],
   "source": [
    "feats = ['MSZoning', 'Utilities', 'Exterior1st', 'Exterior2nd', 'Electrical', 'Functional',\n",
    "         'SaleType']\n",
    "model = data.loc['train'].groupby('Neighborhood')[feats].apply(lambda x: x.mode().iloc[0]) \n",
    "#Grupišemo po \"Neighborhood\"i uzimamo MODE(Najčešća pojavljivanja) i nad time data.iloc[0] -first row of data frame\n",
    "\n",
    "for f in feats:\n",
    "    data[f].fillna(data['Neighborhood'].map(model[f]), inplace=True)\n",
    "    #postavljamo najučestaliju vrednost umesto nedostajućih vredosnti"
   ]
  },
  {
   "cell_type": "code",
   "execution_count": 23,
   "metadata": {
    "collapsed": true
   },
   "outputs": [],
   "source": [
    "#model"
   ]
  },
  {
   "cell_type": "markdown",
   "metadata": {},
   "source": [
    "##### Lot frontage"
   ]
  },
  {
   "cell_type": "code",
   "execution_count": 24,
   "metadata": {},
   "outputs": [
    {
     "data": {
      "text/plain": [
       "Inside     2133\n",
       "Corner      511\n",
       "CulDSac     176\n",
       "FR2          85\n",
       "FR3          14\n",
       "Name: LotConfig, dtype: int64"
      ]
     },
     "execution_count": 24,
     "metadata": {},
     "output_type": "execute_result"
    }
   ],
   "source": [
    "data[\"LotConfig\"].value_counts()"
   ]
  },
  {
   "cell_type": "code",
   "execution_count": 25,
   "metadata": {},
   "outputs": [
    {
     "data": {
      "text/plain": [
       "<matplotlib.axes._subplots.AxesSubplot at 0x117cf0310>"
      ]
     },
     "execution_count": 25,
     "metadata": {},
     "output_type": "execute_result"
    },
    {
     "data": {
      "image/png": "[encoded data removed]",
      "text/plain": [
       "<matplotlib.figure.Figure at 0x111c2a3d0>"
      ]
     },
     "metadata": {},
     "output_type": "display_data"
    }
   ],
   "source": [
    "plt.subplots(figsize=(15,5))\n",
    "boxdata = data.loc['train'].groupby('LotConfig')['LotFrontage'].median().sort_values(ascending=False)\n",
    "order = boxdata.index\n",
    "\n",
    "sns.boxplot(x='LotConfig', y='LotFrontage', order=order, data=data.loc['train'])"
   ]
  },
  {
   "cell_type": "code",
   "execution_count": 26,
   "metadata": {},
   "outputs": [
    {
     "data": {
      "text/plain": [
       "LotConfig\n",
       "Corner     4.394449\n",
       "Inside     4.234107\n",
       "FR2        4.174387\n",
       "FR3        4.102609\n",
       "CulDSac    3.931826\n",
       "Name: LotFrontage, dtype: float64"
      ]
     },
     "execution_count": 26,
     "metadata": {},
     "output_type": "execute_result"
    }
   ],
   "source": [
    "boxdata"
   ]
  },
  {
   "cell_type": "code",
   "execution_count": 27,
   "metadata": {
    "collapsed": true
   },
   "outputs": [],
   "source": [
    "data['LotFrontage'] = data['LotFrontage'].fillna(data.loc['train', 'LotFrontage'].median())\n",
    "#nedostajuće vredosti popunjavamo sa MEDIJANOM(srednjom vrednošću)."
   ]
  },
  {
   "cell_type": "markdown",
   "metadata": {},
   "source": [
    "##### KitchenQual"
   ]
  },
  {
   "cell_type": "markdown",
   "metadata": {},
   "source": [
    "Jako je malo nedostajućih vrednosti kada je reč o atributu \"KitchenQual\" pa ćemo ga zameniti sa vrednosšću za atribut \"OverallQual\""
   ]
  },
  {
   "cell_type": "code",
   "execution_count": 28,
   "metadata": {
    "collapsed": true
   },
   "outputs": [],
   "source": [
    "data['KitchenQual'].fillna(data['OverallQual'], inplace=True)"
   ]
  },
  {
   "cell_type": "markdown",
   "metadata": {},
   "source": [
    "##### Podrumi, garaže, kamini i ostali atributi"
   ]
  },
  {
   "cell_type": "markdown",
   "metadata": {},
   "source": [
    "Nedostajuće atribute(NA) ćemo nadomestiti tako što ćemo reći da kuća ne poseduje dotične atribute."
   ]
  },
  {
   "cell_type": "code",
   "execution_count": 29,
   "metadata": {
    "collapsed": true
   },
   "outputs": [],
   "source": [
    "bsmt = ['BsmtQual', 'BsmtCond', 'BsmtExposure', 'BsmtFinType1', \n",
    "        'BsmtFinSF1', 'BsmtFinType2', 'BsmtFinSF2', 'BsmtUnfSF', 'BsmtFullBath',\n",
    "        'BsmtHalfBath', \n",
    "        'TotalBsmtSF']\n",
    "fire = ['Fireplaces', 'FireplaceQu']\n",
    "garage = ['GarageQual', 'GarageCond', 'GarageType', 'GarageFinish', \n",
    "          'GarageArea']\n",
    "masn = ['MasVnrType', 'MasVnrArea']\n",
    "others = ['Alley', 'Fence', 'PoolQC', 'MiscFeature']\n",
    "\n",
    "cats = data.columns[data.dtypes == 'object'] #Atributi ciji je datatype OBJECT\n",
    "nums = list(set(data.columns) - set(cats))\n",
    "\n",
    "#Kategorija \"None\" je takođe obrađena\n",
    "data['MasVnrType'].replace({'None': np.nan}, inplace=True)\n",
    "\n",
    "data[cats] = data[cats].fillna('0')\n",
    "data[nums] = data[nums].fillna(0)\n"
   ]
  },
  {
   "cell_type": "code",
   "execution_count": 30,
   "metadata": {},
   "outputs": [
    {
     "data": {
      "text/plain": [
       "0L"
      ]
     },
     "execution_count": 30,
     "metadata": {},
     "output_type": "execute_result"
    }
   ],
   "source": [
    "data.isnull().sum().sum()"
   ]
  },
  {
   "cell_type": "markdown",
   "metadata": {},
   "source": [
    "### Izmena tipova varijabli"
   ]
  },
  {
   "cell_type": "markdown",
   "metadata": {},
   "source": [
    "Nakon analize, došla sam do zaključka da neki atributi nisu prezentovani odgovarajućim tipom:\n",
    "\"MSSubClass\"-prikazan je kao INTEGER a predstavlja kategorički podatak tako da ćemo koristiti OBJECT.\n",
    "\"MoSold\"-prikazan je kao INTEGER dok mesec predstavlja kategoričku promenljivu sa 12 mogućnosti tako da ćemo koristiti OBJECT.\n",
    "\"BsmtFullBath\" i \"BsmtHalfBath\" predstavljeni su kao FLOAT a mi ćemo koristiti INTEGER.\n",
    "\"years\" je predstavljen kao FLOAT a mi ćemo koristiti INTEGER.\n",
    "\"GarageCars\"-prikazan je kao FLOAT a mi ćemo koristiti INTEGER."
   ]
  },
  {
   "cell_type": "code",
   "execution_count": 31,
   "metadata": {
    "collapsed": true
   },
   "outputs": [],
   "source": [
    "data['MSSubClass'] = data['MSSubClass'].astype('object', copy=False) #int u object\n",
    "data['MoSold'] = data['MoSold'].astype('object', copy=False) #int u object \n",
    "data['BsmtFullBath'] = data['BsmtFullBath'].astype('int64', copy=False) #float u int\n",
    "data['BsmtHalfBath'] = data['BsmtHalfBath'].astype('int64', copy=False) #float u int\n",
    "data[years] = data[years].astype('int64', copy=False) #float u int\n"
   ]
  },
  {
   "cell_type": "markdown",
   "metadata": {},
   "source": [
    "### Grupisanje u posebnu kategoriju"
   ]
  },
  {
   "cell_type": "markdown",
   "metadata": {},
   "source": [
    "Neke od kategorija kategoričkih atributa su jako loše reprezentovane te se iz njih ne može izvući nikakav zaključak. U cilju rešavanja ovog problema, sve problematične kategorije ćemo svrstati u jednu posebnu kategoriju."
   ]
  },
  {
   "cell_type": "code",
   "execution_count": 32,
   "metadata": {
    "collapsed": true
   },
   "outputs": [],
   "source": [
    "categorical_data = pd.concat((data.loc['train'][cat_feats], price), axis=1)"
   ]
  },
  {
   "cell_type": "code",
   "execution_count": 33,
   "metadata": {
    "collapsed": true
   },
   "outputs": [],
   "source": [
    "low = 0.05 * data.loc['train'].shape[0] #barem 5% dataset-a treba da ima ovu vrednost\n",
    "\n",
    "for feat in cat_feats:        \n",
    "    #grupisaćemo kategorije na osnovu prosečne prodajne cene(average sale price)-mean()SalePrice\n",
    "    #za svako pojavljivanje feat iz cat_feats, uzmi mi prosek za SalePrice i poredaj u opadajućem redosledu.\n",
    "    order = ((categorical_data.groupby(feat).mean()).sort_values(by='SalePrice', \n",
    "                                                      ascending=False).index.values.tolist())\n",
    "    \n",
    "    #order - array(['Normal', 'Abnorml', 'Partial'], dtype=object)\n",
    "    \n",
    "    for i in range(0, len(order)): # i između 1 i 3\n",
    "        N = (categorical_data[categorical_data[feat] == order[i]]\n",
    "             .count().max()) # N=137\n",
    "        j = i # j=2 i=\"Partial\"\n",
    "        while (N < low) & (N != 0): #Dok god postoji atribut čija je vrednost manja od 5% i različita je od 0\n",
    "            j += 1 #...povećavaj mi kategoriju za 1\n",
    "\n",
    "            if (j > len(order) - 1):\n",
    "                # Ako smo stigli do kraja liste, vrati se na poslednju korisnu kategoriju\n",
    "                # iz \"order\" liste\n",
    "                j = i - 1\n",
    "                break\n",
    "            else: \n",
    "                N += (categorical_data[categorical_data[feat] == order[j]]\n",
    "                      .count().max())\n",
    "        if j < i:\n",
    "            lim = len(order)\n",
    "        else:\n",
    "            lim = j\n",
    "\n",
    "        for k in range(i, lim):\n",
    "            categorical_data.replace({feat: {order[k]: order[j]}},\n",
    "                                 inplace=True)\n",
    "            data.replace({feat: {order[k]: order[j]}},\n",
    "                                     inplace=True)            \n",
    "    uniD = data[feat].unique()\n",
    "    order = categorical_data[feat].unique()\n",
    "\n",
    "    for i in uniD:\n",
    "        if i not in order:\n",
    "            ind = np.argsort(order - i)[0]\n",
    "            data.replace({feat: {i: order[ind]}}, inplace=True)\n"
   ]
  },
  {
   "cell_type": "code",
   "execution_count": 34,
   "metadata": {},
   "outputs": [
    {
     "data": {
      "text/plain": [
       "Index([u'MSSubClass', u'MSZoning', u'LotFrontage', u'LotArea', u'Street',\n",
       "       u'Alley', u'LotShape', u'LandContour', u'Utilities', u'LotConfig',\n",
       "       u'LandSlope', u'Neighborhood', u'Condition1', u'Condition2',\n",
       "       u'BldgType', u'HouseStyle', u'OverallQual', u'OverallCond',\n",
       "       u'YearBuilt', u'YearRemodAdd', u'RoofStyle', u'RoofMatl',\n",
       "       u'Exterior1st', u'Exterior2nd', u'MasVnrType', u'MasVnrArea',\n",
       "       u'ExterQual', u'ExterCond', u'Foundation', u'BsmtQual', u'BsmtCond',\n",
       "       u'BsmtExposure', u'BsmtFinType1', u'BsmtFinSF1', u'BsmtFinType2',\n",
       "       u'BsmtFinSF2', u'BsmtUnfSF', u'TotalBsmtSF', u'Heating', u'HeatingQC',\n",
       "       u'CentralAir', u'Electrical', u'2ndFlrSF', u'LowQualFinSF',\n",
       "       u'GrLivArea', u'BsmtFullBath', u'BsmtHalfBath', u'FullBath',\n",
       "       u'HalfBath', u'BedroomAbvGr', u'KitchenAbvGr', u'KitchenQual',\n",
       "       u'Functional', u'Fireplaces', u'FireplaceQu', u'GarageType',\n",
       "       u'GarageFinish', u'GarageArea', u'GarageQual', u'GarageCond',\n",
       "       u'PavedDrive', u'WoodDeckSF', u'OpenPorchSF', u'EnclosedPorch',\n",
       "       u'3SsnPorch', u'ScreenPorch', u'PoolArea', u'PoolQC', u'Fence',\n",
       "       u'MiscFeature', u'MiscVal', u'MoSold', u'YrSold', u'SaleType',\n",
       "       u'SaleCondition', u'GarageYrBlt'],\n",
       "      dtype='object')"
      ]
     },
     "execution_count": 34,
     "metadata": {},
     "output_type": "execute_result"
    }
   ],
   "source": [
    "data.columns"
   ]
  },
  {
   "cell_type": "markdown",
   "metadata": {},
   "source": [
    "## 1.4. Dummy encoding"
   ]
  },
  {
   "cell_type": "markdown",
   "metadata": {},
   "source": [
    "Prvo moramo da prebacimo atribute sa 2 kategorije u 0-1 encoding. Automatsko korišćenje funkcije get_dummies bi ih konvertovala u dva odvojena atributa(feat_0 i feat_1))."
   ]
  },
  {
   "cell_type": "code",
   "execution_count": 35,
   "metadata": {},
   "outputs": [
    {
     "name": "stdout",
     "output_type": "stream",
     "text": [
      "MSZoning: Index([u'RM', u'RL'], dtype='object', name=u'MSZoning')\n",
      "Alley: Index([u'Grvl', u'0'], dtype='object', name=u'Alley')\n",
      "LotShape: Index([u'Reg', u'IR1'], dtype='object', name=u'LotShape')\n",
      "LandContour: Index([u'Lvl', u'Low'], dtype='object', name=u'LandContour')\n",
      "LandSlope: Index([u'Gtl', u'Mod'], dtype='object', name=u'LandSlope')\n",
      "Condition1: Index([u'Feedr', u'Norm'], dtype='object', name=u'Condition1')\n",
      "RoofStyle: Index([u'Gable', u'Hip'], dtype='object', name=u'RoofStyle')\n",
      "BsmtFinType2: Index([u'Rec', u'Unf'], dtype='object', name=u'BsmtFinType2')\n",
      "CentralAir: Index([u'N', u'Y'], dtype='object', name=u'CentralAir')\n",
      "Electrical: Index([u'FuseA', u'SBrkr'], dtype='object', name=u'Electrical')\n",
      "Functional: Index([u'Min2', u'Typ'], dtype='object', name=u'Functional')\n",
      "PavedDrive: Index([u'N', u'Y'], dtype='object', name=u'PavedDrive')\n",
      "Fence: Index([u'MnPrv', u'0'], dtype='object', name=u'Fence')\n",
      "SaleType: Index([u'WD', u'New'], dtype='object', name=u'SaleType')\n"
     ]
    }
   ],
   "source": [
    "#Izmeštamo kolone sa samo jednom kategorijom\n",
    "for feat in categorical_data.columns[:-1]: \n",
    "    uni = categorical_data.groupby(feat).mean().sort_values(by='SalePrice').index\n",
    "    if (len(uni) < 2):\n",
    "            data.drop(feat, axis=1, inplace=True) #Izmeštamo kolone sa samo jednom kategorijom\n",
    "    elif len(uni) < 3: #kolona sa dve kategorije\n",
    "        print(\"{}: {}\".format(feat, uni))\n",
    "        data[feat].replace({uni[0]: 0, uni[1]: 1}, inplace=True)\n",
    "        data[feat] = data[feat].astype('int8')\n",
    "    else:\n",
    "        data[feat] = data[feat].astype('category')"
   ]
  },
  {
   "cell_type": "code",
   "execution_count": 36,
   "metadata": {
    "collapsed": true
   },
   "outputs": [],
   "source": [
    "finaldata = pd.get_dummies(data)"
   ]
  },
  {
   "cell_type": "markdown",
   "metadata": {},
   "source": [
    "Napomena: Varijable koje sadrže(prikazuju) da \"kuća ne poseduje dotične atribute\"(odnosi se na garažu, kamin, podrum), neće treitrati \"0\" kao normalnu kategoriju. Zato ćemo nulu da enkodiramo i za druge mogućnosti."
   ]
  },
  {
   "cell_type": "code",
   "execution_count": 37,
   "metadata": {
    "collapsed": true
   },
   "outputs": [],
   "source": [
    "black_list = bsmt + fire + garage + masn + others\n",
    "for feat in finaldata.columns:\n",
    "    if ('_0' in feat) and (feat.split(\"_\")[0] in black_list):\n",
    "        finaldata.drop(feat, axis=1, inplace=True)"
   ]
  },
  {
   "cell_type": "code",
   "execution_count": 38,
   "metadata": {},
   "outputs": [
    {
     "data": {
      "text/plain": [
       "(2919, 127)"
      ]
     },
     "execution_count": 38,
     "metadata": {},
     "output_type": "execute_result"
    }
   ],
   "source": [
    "finaldata.shape #(broj obzervacija, broj atributa)"
   ]
  },
  {
   "cell_type": "markdown",
   "metadata": {},
   "source": [
    "## 1.5. Shapiro-Wilk test"
   ]
  },
  {
   "cell_type": "markdown",
   "metadata": {
    "collapsed": true
   },
   "source": [
    "##### FinalData : Shapiro-Wilk test za Normalnu raspodelu"
   ]
  },
  {
   "cell_type": "code",
   "execution_count": 39,
   "metadata": {},
   "outputs": [
    {
     "name": "stdout",
     "output_type": "stream",
     "text": [
      "MSZoning\n",
      "(0.450009822845459, 0.0)\n",
      "Ne usvajamo H0!\n",
      "\n",
      "LotFrontage\n",
      "(0.9044284820556641, 2.818352014763149e-29)\n",
      "Ne usvajamo H0!\n",
      "\n",
      "LotArea\n",
      "(0.9054417014122009, 3.8094117909470694e-29)\n",
      "Ne usvajamo H0!\n",
      "\n",
      "Alley\n",
      "(0.2576040029525757, 0.0)\n",
      "Ne usvajamo H0!\n",
      "\n",
      "LotShape\n",
      "(0.6101342439651489, 0.0)\n",
      "Ne usvajamo H0!\n",
      "\n",
      "LandContour\n",
      "(0.24859941005706787, 0.0)\n",
      "Ne usvajamo H0!\n",
      "\n",
      "LandSlope\n",
      "(0.23361438512802124, 0.0)\n",
      "Ne usvajamo H0!\n",
      "\n",
      "Condition1\n",
      "(0.3339800238609314, 0.0)\n",
      "Ne usvajamo H0!\n",
      "\n",
      "OverallQual\n",
      "(0.9480105638504028, 2.6899265770757965e-22)\n",
      "Ne usvajamo H0!\n",
      "\n",
      "OverallCond\n",
      "(0.8289263248443604, 6.778475726002203e-37)\n",
      "Ne usvajamo H0!\n",
      "\n",
      "YearBuilt\n",
      "(0.9255972504615784, 2.7700502478701884e-26)\n",
      "Ne usvajamo H0!\n",
      "\n",
      "YearRemodAdd\n",
      "(0.8628039956092834, 6.7254540933404426e-34)\n",
      "Ne usvajamo H0!\n",
      "\n",
      "RoofStyle\n",
      "(0.4867427945137024, 0.0)\n",
      "Ne usvajamo H0!\n",
      "\n",
      "MasVnrArea\n",
      "(0.7025148868560791, 5.605193857299268e-45)\n",
      "Ne usvajamo H0!\n",
      "\n",
      "ExterQual\n",
      "(0.7037336826324463, 5.605193857299268e-45)\n",
      "Ne usvajamo H0!\n",
      "\n",
      "ExterCond\n",
      "(0.4491845965385437, 0.0)\n",
      "Ne usvajamo H0!\n",
      "\n",
      "BsmtQual\n",
      "(0.8036473393440247, 7.804748998319039e-39)\n",
      "Ne usvajamo H0!\n",
      "\n",
      "BsmtCond\n",
      "(0.3823135495185852, 0.0)\n",
      "Ne usvajamo H0!\n",
      "\n",
      "BsmtFinSF1\n",
      "(0.7336651682853699, 2.634441112930656e-43)\n",
      "Ne usvajamo H0!\n",
      "\n",
      "BsmtFinType2\n",
      "(0.390208899974823, 0.0)\n",
      "Ne usvajamo H0!\n",
      "\n",
      "BsmtFinSF2\n",
      "(0.3833478093147278, 0.0)\n",
      "Ne usvajamo H0!\n",
      "\n",
      "BsmtUnfSF\n",
      "(0.6953932046890259, 2.802596928649634e-45)\n",
      "Ne usvajamo H0!\n",
      "\n",
      "TotalBsmtSF\n",
      "(0.40898680686950684, 0.0)\n",
      "Ne usvajamo H0!\n",
      "\n",
      "HeatingQC\n",
      "(0.7630447149276733, 1.4609937789050543e-41)\n",
      "Ne usvajamo H0!\n",
      "\n",
      "CentralAir\n",
      "(0.26460641622543335, 0.0)\n",
      "Ne usvajamo H0!\n",
      "\n",
      "Electrical\n",
      "(0.31256651878356934, 0.0)\n",
      "Ne usvajamo H0!\n",
      "\n",
      "2ndFlrSF\n",
      "(0.6660921573638916, 0.0)\n",
      "Ne usvajamo H0!\n",
      "\n",
      "LowQualFinSF\n",
      "(0.11098486185073853, 0.0)\n",
      "Ne usvajamo H0!\n",
      "\n",
      "GrLivArea\n",
      "(0.9960963726043701, 0.0008681001490913332)\n",
      "Ne usvajamo H0!\n",
      "\n",
      "BsmtFullBath\n",
      "(0.6582980155944824, 0.0)\n",
      "Ne usvajamo H0!\n",
      "\n",
      "BsmtHalfBath\n",
      "(0.24291211366653442, 0.0)\n",
      "Ne usvajamo H0!\n",
      "\n",
      "FullBath\n",
      "(0.7193548679351807, 4.203895392974451e-44)\n",
      "Ne usvajamo H0!\n",
      "\n",
      "HalfBath\n",
      "(0.6380077600479126, 0.0)\n",
      "Ne usvajamo H0!\n",
      "\n",
      "BedroomAbvGr\n",
      "(0.8497961163520813, 4.1095632627576274e-35)\n",
      "Ne usvajamo H0!\n",
      "\n",
      "KitchenAbvGr\n",
      "(0.21979576349258423, 0.0)\n",
      "Ne usvajamo H0!\n",
      "\n",
      "KitchenQual\n",
      "(0.7948728799819946, 1.847257496700797e-39)\n",
      "Ne usvajamo H0!\n",
      "\n",
      "Functional\n",
      "(0.2731446623802185, 0.0)\n",
      "Ne usvajamo H0!\n",
      "\n",
      "Fireplaces\n",
      "(0.7552325129508972, 4.833078403456294e-42)\n",
      "Ne usvajamo H0!\n",
      "\n",
      "FireplaceQu\n",
      "(0.7633002400398254, 1.5156444190137221e-41)\n",
      "Ne usvajamo H0!\n",
      "\n",
      "GarageArea\n",
      "(0.9753278493881226, 4.018698690337087e-15)\n",
      "Ne usvajamo H0!\n",
      "\n",
      "GarageQual\n",
      "(0.3629951477050781, 0.0)\n",
      "Ne usvajamo H0!\n",
      "\n",
      "GarageCond\n",
      "(0.33675283193588257, 0.0)\n",
      "Ne usvajamo H0!\n",
      "\n",
      "PavedDrive\n",
      "(0.3051005005836487, 0.0)\n",
      "Ne usvajamo H0!\n",
      "\n",
      "WoodDeckSF\n",
      "(0.7156546115875244, 2.6624670822171524e-44)\n",
      "Ne usvajamo H0!\n",
      "\n",
      "OpenPorchSF\n",
      "(0.7788385152816772, 1.502766486126577e-40)\n",
      "Ne usvajamo H0!\n",
      "\n",
      "EnclosedPorch\n",
      "(0.43125659227371216, 0.0)\n",
      "Ne usvajamo H0!\n",
      "\n",
      "3SsnPorch\n",
      "(0.10491180419921875, 0.0)\n",
      "Ne usvajamo H0!\n",
      "\n",
      "ScreenPorch\n",
      "(0.30601972341537476, 0.0)\n",
      "Ne usvajamo H0!\n",
      "\n",
      "PoolArea\n",
      "(0.0410037636756897, 0.0)\n",
      "Ne usvajamo H0!\n",
      "\n",
      "PoolQC\n",
      "(0.03826326131820679, 0.0)\n",
      "Ne usvajamo H0!\n",
      "\n",
      "Fence\n",
      "(0.48126745223999023, 0.0)\n",
      "Ne usvajamo H0!\n",
      "\n",
      "MiscVal\n",
      "(0.1828707456588745, 0.0)\n",
      "Ne usvajamo H0!\n",
      "\n",
      "YrSold\n",
      "(0.8970962762832642, 3.4190127761463244e-30)\n",
      "Ne usvajamo H0!\n",
      "\n",
      "SaleType\n",
      "(0.311090350151062, 0.0)\n",
      "Ne usvajamo H0!\n",
      "\n",
      "MSSubClass_20\n",
      "(0.6146272420883179, 0.0)\n",
      "Ne usvajamo H0!\n",
      "\n",
      "MSSubClass_30\n",
      "(0.30659955739974976, 0.0)\n",
      "Ne usvajamo H0!\n",
      "\n",
      "MSSubClass_50\n",
      "(0.37021785974502563, 0.0)\n",
      "Ne usvajamo H0!\n",
      "\n",
      "MSSubClass_60\n",
      "(0.4950484037399292, 0.0)\n",
      "Ne usvajamo H0!\n",
      "\n",
      "MSSubClass_70\n",
      "(0.3020414710044861, 0.0)\n",
      "Ne usvajamo H0!\n",
      "\n",
      "MSSubClass_90\n",
      "(0.2974119782447815, 0.0)\n",
      "Ne usvajamo H0!\n",
      "\n",
      "MSSubClass_120\n",
      "(0.25042033195495605, 0.0)\n",
      "Ne usvajamo H0!\n",
      "\n",
      "LotConfig_Corner\n",
      "(0.5058621168136597, 0.0)\n",
      "Ne usvajamo H0!\n",
      "\n",
      "LotConfig_CulDSac\n",
      "(0.2628703713417053, 0.0)\n",
      "Ne usvajamo H0!\n",
      "\n",
      "LotConfig_Inside\n",
      "(0.561639666557312, 0.0)\n",
      "Ne usvajamo H0!\n",
      "\n",
      "Neighborhood_BrDale\n",
      "(0.3169764280319214, 0.0)\n",
      "Ne usvajamo H0!\n",
      "\n",
      "Neighborhood_CollgCr\n",
      "(0.3689976930618286, 0.0)\n",
      "Ne usvajamo H0!\n",
      "\n",
      "Neighborhood_Crawfor\n",
      "(0.2355290651321411, 0.0)\n",
      "Ne usvajamo H0!\n",
      "\n",
      "Neighborhood_Edwards\n",
      "(0.2731477618217468, 0.0)\n",
      "Ne usvajamo H0!\n",
      "\n",
      "Neighborhood_Gilbert\n",
      "(0.2355290651321411, 0.0)\n",
      "Ne usvajamo H0!\n",
      "\n",
      "Neighborhood_Mitchel\n",
      "(0.2863292098045349, 0.0)\n",
      "Ne usvajamo H0!\n",
      "\n",
      "Neighborhood_NAmes\n",
      "(0.43218743801116943, 0.0)\n",
      "Ne usvajamo H0!\n",
      "\n",
      "Neighborhood_NWAmes\n",
      "(0.22384881973266602, 0.0)\n",
      "Ne usvajamo H0!\n",
      "\n",
      "Neighborhood_NridgHt\n",
      "(0.3020414710044861, 0.0)\n",
      "Ne usvajamo H0!\n",
      "\n",
      "Neighborhood_OldTown\n",
      "(0.2942867875099182, 0.0)\n",
      "Ne usvajamo H0!\n",
      "\n",
      "Neighborhood_Sawyer\n",
      "(0.28953856229782104, 0.0)\n",
      "Ne usvajamo H0!\n",
      "\n",
      "Neighborhood_Somerst\n",
      "(0.24859941005706787, 0.0)\n",
      "Ne usvajamo H0!\n",
      "\n",
      "Neighborhood_Veenker\n",
      "(0.2258281111717224, 0.0)\n",
      "Ne usvajamo H0!\n",
      "\n",
      "BldgType_1Fam\n",
      "(0.44634300470352173, 0.0)\n",
      "Ne usvajamo H0!\n",
      "\n",
      "BldgType_Twnhs\n",
      "(0.31404751539230347, 0.0)\n",
      "Ne usvajamo H0!\n",
      "\n",
      "BldgType_TwnhsE\n",
      "(0.29585403203964233, 0.0)\n",
      "Ne usvajamo H0!\n",
      "\n",
      "HouseStyle_1.5Fin\n",
      "(0.4232977628707886, 0.0)\n",
      "Ne usvajamo H0!\n",
      "\n",
      "HouseStyle_1Story\n",
      "(0.6340658664703369, 0.0)\n",
      "Ne usvajamo H0!\n",
      "\n",
      "HouseStyle_2Story\n",
      "(0.5820093154907227, 0.0)\n",
      "Ne usvajamo H0!\n",
      "\n",
      "Exterior1st_BrkFace\n",
      "(0.29112952947616577, 0.0)\n",
      "Ne usvajamo H0!\n",
      "\n",
      "Exterior1st_HdBoard\n",
      "(0.4292590618133545, 0.0)\n",
      "Ne usvajamo H0!\n",
      "\n",
      "Exterior1st_MetalSd\n",
      "(0.45089250802993774, 0.0)\n",
      "Ne usvajamo H0!\n",
      "\n",
      "Exterior1st_Plywood\n",
      "(0.2863292098045349, 0.0)\n",
      "Ne usvajamo H0!\n",
      "\n",
      "Exterior1st_VinylSd\n",
      "(0.6051970720291138, 0.0)\n",
      "Ne usvajamo H0!\n",
      "\n",
      "Exterior1st_Wd Sdng\n",
      "(0.4606085419654846, 0.0)\n",
      "Ne usvajamo H0!\n",
      "\n",
      "Exterior2nd_BrkFace\n",
      "(0.24676698446273804, 0.0)\n",
      "Ne usvajamo H0!\n",
      "\n",
      "Exterior2nd_HdBoard\n",
      "(0.41409873962402344, 0.0)\n",
      "Ne usvajamo H0!\n",
      "\n",
      "Exterior2nd_MetalSd\n",
      "(0.46147215366363525, 0.0)\n",
      "Ne usvajamo H0!\n",
      "\n",
      "Exterior2nd_Plywood\n",
      "(0.33671581745147705, 0.0)\n",
      "Ne usvajamo H0!\n",
      "\n",
      "Exterior2nd_VinylSd\n",
      "(0.6042764186859131, 0.0)\n",
      "Ne usvajamo H0!\n",
      "\n",
      "Exterior2nd_Wd Sdng\n",
      "(0.45886969566345215, 0.0)\n",
      "Ne usvajamo H0!\n",
      "\n",
      "MasVnrType_BrkFace\n",
      "(0.5786582827568054, 0.0)\n",
      "Ne usvajamo H0!\n",
      "\n",
      "MasVnrType_Stone\n",
      "(0.3169764280319214, 0.0)\n",
      "Ne usvajamo H0!\n",
      "\n",
      "Foundation_BrkTil\n",
      "(0.3726431727409363, 0.0)\n",
      "Ne usvajamo H0!\n",
      "\n",
      "Foundation_CBlock\n",
      "(0.6314239501953125, 0.0)\n",
      "Ne usvajamo H0!\n",
      "\n",
      "Foundation_PConc\n",
      "(0.6318908929824829, 0.0)\n",
      "Ne usvajamo H0!\n",
      "\n",
      "BsmtExposure_Av\n",
      "(0.42827486991882324, 0.0)\n",
      "Ne usvajamo H0!\n",
      "\n",
      "BsmtExposure_Gd\n",
      "(0.32559603452682495, 0.0)\n",
      "Ne usvajamo H0!\n",
      "\n",
      "BsmtExposure_Mn\n",
      "(0.29585403203964233, 0.0)\n",
      "Ne usvajamo H0!\n",
      "\n",
      "BsmtExposure_No\n",
      "(0.588380753993988, 0.0)\n",
      "Ne usvajamo H0!\n",
      "\n",
      "BsmtFinType1_ALQ\n",
      "(0.4272894859313965, 0.0)\n",
      "Ne usvajamo H0!\n",
      "\n",
      "BsmtFinType1_BLQ\n",
      "(0.3447924256324768, 0.0)\n",
      "Ne usvajamo H0!\n",
      "\n",
      "BsmtFinType1_GLQ\n",
      "(0.566489577293396, 0.0)\n",
      "Ne usvajamo H0!\n",
      "\n",
      "BsmtFinType1_LwQ\n",
      "(0.2258281111717224, 0.0)\n",
      "Ne usvajamo H0!\n",
      "\n",
      "BsmtFinType1_Rec\n",
      "(0.3726431727409363, 0.0)\n",
      "Ne usvajamo H0!\n",
      "\n",
      "BsmtFinType1_Unf\n",
      "(0.5720664858818054, 0.0)\n",
      "Ne usvajamo H0!\n",
      "\n",
      "GarageType_Attchd\n",
      "(0.6231025457382202, 0.0)\n",
      "Ne usvajamo H0!\n",
      "\n",
      "GarageType_BuiltIn\n",
      "(0.25223082304000854, 0.0)\n",
      "Ne usvajamo H0!\n",
      "\n",
      "GarageType_Detchd\n",
      "(0.5636056661605835, 0.0)\n",
      "Ne usvajamo H0!\n",
      "\n",
      "GarageFinish_Fin\n",
      "(0.5307605266571045, 0.0)\n",
      "Ne usvajamo H0!\n",
      "\n",
      "GarageFinish_RFn\n",
      "(0.568381667137146, 0.0)\n",
      "Ne usvajamo H0!\n",
      "\n",
      "GarageFinish_Unf\n",
      "(0.6258578300476074, 0.0)\n",
      "Ne usvajamo H0!\n",
      "\n",
      "MoSold_3\n",
      "(0.2830876111984253, 0.0)\n",
      "Ne usvajamo H0!\n",
      "\n",
      "MoSold_4\n",
      "(0.405648410320282, 0.0)\n",
      "Ne usvajamo H0!\n",
      "\n",
      "MoSold_5\n",
      "(0.4109607934951782, 0.0)\n",
      "Ne usvajamo H0!\n",
      "\n",
      "MoSold_6\n",
      "(0.45799487829208374, 0.0)\n",
      "Ne usvajamo H0!\n",
      "\n",
      "MoSold_7\n",
      "(0.48519742488861084, 0.0)\n",
      "Ne usvajamo H0!\n",
      "\n",
      "MoSold_8\n",
      "(0.38562047481536865, 0.0)\n",
      "Ne usvajamo H0!\n",
      "\n",
      "MoSold_10\n",
      "(0.2540304660797119, 0.0)\n",
      "Ne usvajamo H0!\n",
      "\n",
      "MoSold_11\n",
      "(0.33671581745147705, 0.0)\n",
      "Ne usvajamo H0!\n",
      "\n",
      "SaleCondition_Abnorml\n",
      "(0.3298138380050659, 0.0)\n",
      "Ne usvajamo H0!\n",
      "\n",
      "SaleCondition_Normal\n",
      "(0.46576017141342163, 0.0)\n",
      "Ne usvajamo H0!\n",
      "\n",
      "SaleCondition_Partial\n",
      "(0.3125731348991394, 0.0)\n",
      "Ne usvajamo H0!\n",
      "\n"
     ]
    }
   ],
   "source": [
    "for column in finaldata.columns:\n",
    "    test_result = scipy.stats.shapiro(\n",
    "        finaldata.loc['train'][column]\n",
    "    )\n",
    "    print(column)\n",
    "    print(test_result)\n",
    "    if test_result[1] > 0.05:\n",
    "        print(\"Usvajamo H0!\\n\")\n",
    "    else:\n",
    "        print(\"Ne usvajamo H0!\\n\")"
   ]
  },
  {
   "cell_type": "markdown",
   "metadata": {},
   "source": [
    "## 1.6. Feature Scaling"
   ]
  },
  {
   "cell_type": "markdown",
   "metadata": {},
   "source": [
    "U cilju efikasnijeg i boljeg rada algoritma linearne regresije, ono što ćemo sledeće da uradimo to je da ćemo da razdvojimo i normalizujemo podatke. Ono što ćemo koristiti za normalizaciju je SREDNJA VREDNOST(mean) i STANDARDNA DEVIJACIJA(standard deviation) našeg training set-a."
   ]
  },
  {
   "cell_type": "code",
   "execution_count": 40,
   "metadata": {
    "collapsed": true
   },
   "outputs": [],
   "source": [
    "# Training/testing sets za LINEARNU REGRESIJU bez STANDARDIZCIJE za Ridge sa STANDARDIZACIJOM\n",
    "X_testRidge = finaldata.loc['test']\n",
    "X_trainRidge = finaldata.loc['train']\n",
    "\n",
    "Y_trainRidge = price"
   ]
  },
  {
   "cell_type": "code",
   "execution_count": 41,
   "metadata": {
    "collapsed": true
   },
   "outputs": [],
   "source": [
    "m = X_trainRidge.mean() #Prosečna vrednost parametra u traingn set-u\n",
    "\n",
    "#m1 = X_test.mean()\n",
    "#X_train = (X_train - m) / std\n",
    "#X_test = (X_test - m) / std\n",
    "#def IQR(X_test):\n",
    "#    return np.percentile(X_test, 75) - np.percentile(X_test, 25)\n",
    "\n",
    "\n",
    "#Interquartile range\n",
    "def IQR(X_trainRidge):\n",
    "    return np.percentile(X_trainRidge, 75) - np.percentile(X_trainRidge, 25)\n",
    "\n",
    "\n",
    "X_trainRidge = (X_trainRidge - m) / IQR(X_trainRidge)\n",
    "X_testRidge = (X_testRidge - m) / IQR(X_trainRidge)\n",
    "\n"
   ]
  },
  {
   "cell_type": "markdown",
   "metadata": {
    "collapsed": true
   },
   "source": [
    "# 2. Ridge Regresija"
   ]
  },
  {
   "cell_type": "code",
   "execution_count": 42,
   "metadata": {
    "collapsed": true
   },
   "outputs": [],
   "source": [
    "from sklearn.model_selection import train_test_split"
   ]
  },
  {
   "cell_type": "code",
   "execution_count": 43,
   "metadata": {
    "collapsed": true
   },
   "outputs": [],
   "source": [
    "x_trainR, x_testR, y_trainR, y_testR = train_test_split(X_trainRidge, Y_trainRidge, test_size=0.25, random_state=42)"
   ]
  },
  {
   "cell_type": "code",
   "execution_count": 44,
   "metadata": {},
   "outputs": [
    {
     "data": {
      "text/plain": [
       "RidgeCV(alphas=(0.1, 1.0, 10.0), cv=None, fit_intercept=True, gcv_mode=None,\n",
       "    normalize=False, scoring=None, store_cv_values=False)"
      ]
     },
     "execution_count": 44,
     "metadata": {},
     "output_type": "execute_result"
    }
   ],
   "source": [
    "#RidgeRegression object\n",
    "Rr = RidgeCV()\n",
    "\n",
    "#Treniramo model Ridge regresije korišćenjem training set-a\n",
    "Rr.fit(X_trainRidge, Y_trainRidge)"
   ]
  },
  {
   "cell_type": "markdown",
   "metadata": {},
   "source": [
    "### Top influencers"
   ]
  },
  {
   "cell_type": "code",
   "execution_count": 45,
   "metadata": {},
   "outputs": [
    {
     "name": "stdout",
     "output_type": "stream",
     "text": [
      "GrLivArea................  4.5872e-01\n",
      "Neighborhood_NridgHt.....  1.1579e-01\n",
      "SaleType.................  9.0642e-02\n",
      "GarageFinish_RFn......... -8.9670e-02\n",
      "Neighborhood_Edwards..... -8.7467e-02\n"
     ]
    }
   ],
   "source": [
    "maxcoef = np.argsort(-np.abs(Rr.coef_))\n",
    "coef = Rr.coef_[maxcoef]\n",
    "for i in range(0, 5):\n",
    "    print(\"{:.<025} {:< 010.4e}\".format(finaldata.columns[maxcoef[i]], coef[i]))"
   ]
  },
  {
   "cell_type": "code",
   "execution_count": 46,
   "metadata": {
    "collapsed": true
   },
   "outputs": [],
   "source": [
    "predictions = Rr.predict(x_testR)"
   ]
  },
  {
   "cell_type": "code",
   "execution_count": 47,
   "metadata": {
    "collapsed": true
   },
   "outputs": [],
   "source": [
    "diff = pd.DataFrame(predictions - y_testR)"
   ]
  },
  {
   "cell_type": "code",
   "execution_count": 48,
   "metadata": {
    "collapsed": true
   },
   "outputs": [],
   "source": [
    "diff.columns = [\"diff\"]"
   ]
  },
  {
   "cell_type": "code",
   "execution_count": 49,
   "metadata": {
    "collapsed": true
   },
   "outputs": [],
   "source": [
    "diff[\"squared\"] = diff[\"diff\"].apply(lambda x: x*x)"
   ]
  },
  {
   "cell_type": "code",
   "execution_count": 50,
   "metadata": {},
   "outputs": [
    {
     "data": {
      "text/html": [
       "<div>\n",
       "<style>\n",
       "    .dataframe thead tr:only-child th {\n",
       "        text-align: right;\n",
       "    }\n",
       "\n",
       "    .dataframe thead th {\n",
       "        text-align: left;\n",
       "    }\n",
       "\n",
       "    .dataframe tbody tr th {\n",
       "        vertical-align: top;\n",
       "    }\n",
       "</style>\n",
       "<table border=\"1\" class=\"dataframe\">\n",
       "  <thead>\n",
       "    <tr style=\"text-align: right;\">\n",
       "      <th></th>\n",
       "      <th>diff</th>\n",
       "      <th>squared</th>\n",
       "    </tr>\n",
       "  </thead>\n",
       "  <tbody>\n",
       "    <tr>\n",
       "      <th>892</th>\n",
       "      <td>-0.015620</td>\n",
       "      <td>0.000244</td>\n",
       "    </tr>\n",
       "    <tr>\n",
       "      <th>1105</th>\n",
       "      <td>-0.029862</td>\n",
       "      <td>0.000892</td>\n",
       "    </tr>\n",
       "    <tr>\n",
       "      <th>413</th>\n",
       "      <td>-0.129718</td>\n",
       "      <td>0.016827</td>\n",
       "    </tr>\n",
       "    <tr>\n",
       "      <th>522</th>\n",
       "      <td>-0.064633</td>\n",
       "      <td>0.004177</td>\n",
       "    </tr>\n",
       "    <tr>\n",
       "      <th>1036</th>\n",
       "      <td>0.027628</td>\n",
       "      <td>0.000763</td>\n",
       "    </tr>\n",
       "  </tbody>\n",
       "</table>\n",
       "</div>"
      ],
      "text/plain": [
       "          diff   squared\n",
       "892  -0.015620  0.000244\n",
       "1105 -0.029862  0.000892\n",
       "413  -0.129718  0.016827\n",
       "522  -0.064633  0.004177\n",
       "1036  0.027628  0.000763"
      ]
     },
     "execution_count": 50,
     "metadata": {},
     "output_type": "execute_result"
    }
   ],
   "source": [
    "diff.head()"
   ]
  },
  {
   "cell_type": "code",
   "execution_count": 51,
   "metadata": {},
   "outputs": [
    {
     "data": {
      "text/plain": [
       "0.11087427876322579"
      ]
     },
     "execution_count": 51,
     "metadata": {},
     "output_type": "execute_result"
    }
   ],
   "source": [
    "np.sqrt(diff[\"squared\"].sum()/diff.shape[0])"
   ]
  },
  {
   "cell_type": "markdown",
   "metadata": {},
   "source": [
    "# RMSE = 0.11087427876322579"
   ]
  },
  {
   "cell_type": "code",
   "execution_count": null,
   "metadata": {
    "collapsed": true
   },
   "outputs": [],
   "source": []
  },
  {
   "cell_type": "code",
   "execution_count": 52,
   "metadata": {
    "collapsed": true
   },
   "outputs": [],
   "source": [
    "# R-squared i Adj R-squared"
   ]
  },
  {
   "cell_type": "code",
   "execution_count": 53,
   "metadata": {
    "collapsed": true
   },
   "outputs": [],
   "source": [
    "from sklearn.metrics import r2_score"
   ]
  },
  {
   "cell_type": "code",
   "execution_count": 54,
   "metadata": {},
   "outputs": [],
   "source": [
    "r = r2_score(y_testR, predictions) # 0.93"
   ]
  },
  {
   "cell_type": "code",
   "execution_count": 55,
   "metadata": {},
   "outputs": [
    {
     "data": {
      "text/plain": [
       "(365,)"
      ]
     },
     "execution_count": 55,
     "metadata": {},
     "output_type": "execute_result"
    }
   ],
   "source": [
    "predictions.shape"
   ]
  },
  {
   "cell_type": "code",
   "execution_count": 56,
   "metadata": {},
   "outputs": [
    {
     "data": {
      "text/plain": [
       "(365, 127)"
      ]
     },
     "execution_count": 56,
     "metadata": {},
     "output_type": "execute_result"
    }
   ],
   "source": [
    "x_testR.shape"
   ]
  },
  {
   "cell_type": "code",
   "execution_count": 57,
   "metadata": {
    "collapsed": true
   },
   "outputs": [],
   "source": [
    "adj_r = 1 - (1 - 0.93)*(365 - 1)/(365 - 127 - 1) # 0.89"
   ]
  },
  {
   "cell_type": "code",
   "execution_count": 58,
   "metadata": {},
   "outputs": [
    {
     "data": {
      "text/plain": [
       "0.92900605235092448"
      ]
     },
     "execution_count": 58,
     "metadata": {},
     "output_type": "execute_result"
    }
   ],
   "source": [
    "r"
   ]
  },
  {
   "cell_type": "code",
   "execution_count": 59,
   "metadata": {},
   "outputs": [
    {
     "data": {
      "text/plain": [
       "0.8924894514767934"
      ]
     },
     "execution_count": 59,
     "metadata": {},
     "output_type": "execute_result"
    }
   ],
   "source": [
    "adj_r"
   ]
  },
  {
   "cell_type": "code",
   "execution_count": null,
   "metadata": {
    "collapsed": true
   },
   "outputs": [],
   "source": []
  }
 ],
 "metadata": {
  "kernelspec": {
   "display_name": "Python 2",
   "language": "python",
   "name": "python2"
  },
  "language_info": {
   "codemirror_mode": {
    "name": "ipython",
    "version": 2
   },
   "file_extension": ".py",
   "mimetype": "text/x-python",
   "name": "python",
   "nbconvert_exporter": "python",
   "pygments_lexer": "ipython2",
   "version": "2.7.14"
  }
 },
 "nbformat": 4,
 "nbformat_minor": 2
}
